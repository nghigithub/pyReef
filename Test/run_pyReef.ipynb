{
 "cells": [
  {
   "cell_type": "code",
   "execution_count": null,
   "metadata": {
    "collapsed": false
   },
   "outputs": [],
   "source": [
    "%matplotlib inline\n",
    "import matplotlib.pyplot as plt\n",
    "\n",
    "import numpy as np\n",
    "\n",
    "%config InlineBackend.figure_format = 'svg'"
   ]
  },
  {
   "cell_type": "code",
   "execution_count": 2,
   "metadata": {
    "collapsed": false
   },
   "outputs": [],
   "source": [
    "from pyReef.model import Model "
   ]
  },
  {
   "cell_type": "code",
   "execution_count": 3,
   "metadata": {
    "collapsed": false
   },
   "outputs": [],
   "source": [
    "# initialise model\n",
    "reef = Model()"
   ]
  },
  {
   "cell_type": "code",
   "execution_count": 4,
   "metadata": {
    "collapsed": false
   },
   "outputs": [],
   "source": [
    "# Define the XmL input file\n",
    "reef.load_xml('input.xml')"
   ]
  },
  {
   "cell_type": "code",
   "execution_count": 5,
   "metadata": {
    "collapsed": false
   },
   "outputs": [
    {
     "name": "stdout",
     "output_type": "stream",
     "text": [
      "Swan model of waves field 0 and climatic conditions 0:\n",
      "took 55.58 seconds to run.\n",
      "Longshore model for wave field 0 and climatic conditions 0:\n",
      "took 2.96 seconds to run.\n"
     ]
    }
   ],
   "source": [
    "# Run model\n",
    "reef.run_to_time(0.5)"
   ]
  },
  {
   "cell_type": "markdown",
   "metadata": {},
   "source": [
    "# Streamlines"
   ]
  },
  {
   "cell_type": "code",
   "execution_count": null,
   "metadata": {
    "collapsed": false
   },
   "outputs": [],
   "source": [
    "x = reef.pyGrid.regX\n",
    "y = reef.pyGrid.regY\n",
    "xm, ym = np.meshgrid(x, y, sparse=False, indexing='ij')\n",
    "X = xm.T\n",
    "Y = ym.T\n",
    "U = reef.force.wavU[0].T\n",
    "V = reef.force.wavV[0].T\n",
    "\n",
    "\n",
    "fig0, ax0 = plt.subplots(figsize = (10,6))\n",
    "\n",
    "dx = x[1]-x[0]\n",
    "bYmin = y.min() #6000000\n",
    "bYmax = y.max()\n",
    "j1 = 0 #int((bYmin-y[0])/dx)\n",
    "j2 = len(y)\n",
    "\n",
    "bXmin = x.min()\n",
    "bXmax = x.max() #1300000 #(bYmax-bYmin) + bXmin\n",
    "i1 = 0\n",
    "i2 = len(x) #max(int((bXmax-x[0])/dx)+1,len(x))\n",
    "\n",
    "speed = np.sqrt(U[j1:j2,i1:i2]**2+V[j1:j2,i1:i2]**2)\n",
    "lw = 5*speed / speed.max()\n",
    "\n",
    "plt.contour(X[j1:j2,i1:i2], Y[j1:j2,i1:i2], reef.pyGrid.regZ.T[j1:j2,i1:i2]-reef.force.sealevel, [0], \n",
    "            colors='k', origin='lower', linewidths=2)\n",
    "\n",
    "strm = ax0.streamplot(X[j1:j2,i1:i2], Y[j1:j2,i1:i2], U[j1:j2,i1:i2], V[j1:j2,i1:i2], \n",
    "                      color=speed, density=3., linewidth=lw, cmap=plt.cm.spring, arrowsize=0.5)\n",
    "fig0.colorbar(strm.lines)\n",
    "\n",
    "plt.xlim(bXmin,bXmax)\n",
    "plt.ylim(bYmin+1000, bYmax)\n",
    "plt.show()"
   ]
  },
  {
   "cell_type": "markdown",
   "metadata": {},
   "source": [
    "# Output the model topography"
   ]
  },
  {
   "cell_type": "code",
   "execution_count": null,
   "metadata": {
    "collapsed": false
   },
   "outputs": [],
   "source": [
    "from mpl_toolkits.axes_grid1 import make_axes_locatable\n",
    "import matplotlib.pyplot as plt\n",
    "\n",
    "# display plots in SVG format\n",
    "%config InlineBackend.figure_format = 'svg' \n",
    "\n",
    "plt.figure(figsize = (5,5))\n",
    "ax = plt.gca()\n",
    "\n",
    "im = plt.imshow(reef.pyGrid.regZ.T-reef.force.sealevel, origin='lower', cmap='terrain', aspect=1)\n",
    "\n",
    "levels = [0]\n",
    "\n",
    "CS = plt.contour(reef.pyGrid.regZ.T-reef.force.sealevel, levels, colors='r', \n",
    "                 origin='lower',             # origin in lower-left corner\n",
    "                 linewidths=1)         # outer pixel boundaries\n",
    "\n",
    "# Colorbar\n",
    "divider = make_axes_locatable(ax)\n",
    "cax = divider.append_axes(\"right\", size=\"10%\", pad=0.1, aspect=20)\n",
    "cb = plt.colorbar(im, cax=cax)\n",
    "plt.show()"
   ]
  },
  {
   "cell_type": "markdown",
   "metadata": {},
   "source": [
    "# Compute slopes"
   ]
  },
  {
   "cell_type": "code",
   "execution_count": null,
   "metadata": {
    "collapsed": true
   },
   "outputs": [],
   "source": []
  },
  {
   "cell_type": "code",
   "execution_count": null,
   "metadata": {
    "collapsed": false
   },
   "outputs": [],
   "source": [
    "def assignBCs(elevGrid):\n",
    "    # Pads the boundaries of a grid\n",
    "    # Boundary condition pads the boundaries with equivalent values \n",
    "    # to the data margins, e.g. x[-1,1] = x[1,1]\n",
    "    # This creates a grid 2 rows and 2 columns larger than the input\n",
    "\n",
    "    ny, nx = elevGrid.shape  # Size of array\n",
    "    Zbc = np.zeros((ny + 2, nx + 2))  # Create boundary condition array\n",
    "    Zbc[1:-1,1:-1] = elevGrid  # Insert old grid in center\n",
    "\n",
    "    #Assign boundary conditions - sides\n",
    "    Zbc[0, 1:-1] = elevGrid[0, :]\n",
    "    Zbc[-1, 1:-1] = elevGrid[-1, :]\n",
    "    Zbc[1:-1, 0] = elevGrid[:, 0]\n",
    "    Zbc[1:-1, -1] = elevGrid[:,-1]\n",
    "\n",
    "    #Assign boundary conditions - corners\n",
    "    Zbc[0, 0] = elevGrid[0, 0]\n",
    "    Zbc[0, -1] = elevGrid[0, -1]\n",
    "    Zbc[-1, 0] = elevGrid[-1, 0]\n",
    "    Zbc[-1, -1] = elevGrid[-1, 0]\n",
    "\n",
    "    return Zbc\n",
    "\n",
    "def calcFiniteSlopes(elevGrid, dx):\n",
    "    # sx,sy = calcFiniteDiffs(elevGrid,dx)\n",
    "    # calculates finite differences in X and Y direction using the \n",
    "    # 2nd order/centered difference method.\n",
    "    # Applies a boundary condition such that the size and location \n",
    "    # of the grids in is the same as that out.\n",
    "\n",
    "    # Assign boundary conditions\n",
    "    Zbc = assignBCs(elevGrid)\n",
    "\n",
    "    #Compute finite differences\n",
    "    Sx = (Zbc[1:-1, 2:] - Zbc[1:-1, :-2])/(2*dx)\n",
    "    Sy = (Zbc[2:,1:-1] - Zbc[:-2, 1:-1])/(2*dx)\n",
    "\n",
    "    return Sx, Sy"
   ]
  },
  {
   "cell_type": "code",
   "execution_count": null,
   "metadata": {
    "collapsed": false
   },
   "outputs": [],
   "source": [
    "import numpy as np\n",
    "\n",
    "# Create arrays of the x and y coordinates of each pixel (the axes)\n",
    "x = reef.pyGrid.regX\n",
    "y = reef.pyGrid.regY\n",
    "z = reef.pyGrid.regZ - reef.force.sealevel\n",
    "dx = reef.pyGrid.res\n",
    "\n",
    "# Data range\n",
    "dataExtent = [np.amin(x), np.amax(x),\n",
    "              np.amax(y), np.amin(y)]\n",
    "\n",
    "# Create 2 2d grids describing x and y coordinates\n",
    "#X,Y = np.meshgrid(x, y, sparse=False, indexing='ij')\n",
    "\n",
    "# Calculate slope\n",
    "Sy,Sx = calcFiniteSlopes(z,dx)\n",
    "Smag = np.sqrt(Sx**2 + Sy**2)\n",
    "print Smag.shape\n",
    "print Smag[1,1],Smag[-1,-1]\n",
    "plt.imshow(Smag.T, interpolation = 'bilinear',\n",
    "        cmap='coolwarm', vmin=0, vmax=0.1, extent=dataExtent)\n",
    "\n",
    "plt.gca().invert_yaxis()\n",
    "plt.show()"
   ]
  },
  {
   "cell_type": "markdown",
   "metadata": {},
   "source": [
    "# Compute open-water estimation"
   ]
  },
  {
   "cell_type": "code",
   "execution_count": null,
   "metadata": {
    "collapsed": false
   },
   "outputs": [],
   "source": [
    "import math\n",
    "import numpy as np\n",
    "from scipy import signal\n",
    "\n",
    "hscale = 1500. \n",
    "sigr = 30\n",
    "\n",
    "x = reef.pyGrid.regX\n",
    "y = reef.pyGrid.regY\n",
    "z = reef.pyGrid.regZ -reef.force.sealevel\n",
    "xmin = min(reef.pyGrid.regX)\n",
    "xmax = max(reef.pyGrid.regX)\n",
    "ymin = min(reef.pyGrid.regY)\n",
    "ymax = max(reef.pyGrid.regY)\n",
    "nx = len(reef.pyGrid.regX)\n",
    "ny = len(reef.pyGrid.regY)\n",
    "xv, yv = np.meshgrid(x, y, sparse=False, indexing='ij')\n",
    "\n",
    "xm = xv.T - ((xmax-xmin)/2 + xmin)\n",
    "ym = yv.T - ((ymax-ymin)/2 + ymin)"
   ]
  },
  {
   "cell_type": "code",
   "execution_count": null,
   "metadata": {
    "collapsed": false
   },
   "outputs": [],
   "source": [
    "r = np.sqrt(xm**2 + ym**2)\n",
    "Gfac = 3./(math.pi*hscale**3)\n",
    "G = Gfac * np.exp(1-r/hscale)"
   ]
  },
  {
   "cell_type": "code",
   "execution_count": null,
   "metadata": {
    "collapsed": true
   },
   "outputs": [],
   "source": [
    "#zconv = signal.convolve2d(-z.T, G, boundary='symm', mode='same')\n",
    "zconv = signal.fftconvolve(-z.T, G, mode='same')\n",
    "zs = zconv.T "
   ]
  },
  {
   "cell_type": "code",
   "execution_count": null,
   "metadata": {
    "collapsed": true
   },
   "outputs": [],
   "source": [
    "zs[zs < 0.] = 0.\n",
    "U = 1.-np.exp(-zs/sigr)\n",
    "umax = np.amax(U)\n",
    "U = U/umax"
   ]
  },
  {
   "cell_type": "code",
   "execution_count": null,
   "metadata": {
    "collapsed": false
   },
   "outputs": [],
   "source": [
    "plt.figure()\n",
    "\n",
    "from mpl_toolkits.axes_grid1 import make_axes_locatable\n",
    "import matplotlib.pyplot as plt\n",
    "\n",
    "# display plots in SVG format\n",
    "%config InlineBackend.figure_format = 'svg' \n",
    "\n",
    "plt.figure(figsize = (5,5))\n",
    "ax = plt.gca()\n",
    "\n",
    "im = plt.imshow(U.T, origin='lower', cmap='terrain', aspect=1)\n",
    "\n",
    "levels = [0,0.05,0.1,0.2,0.3,0.4,0.5]\n",
    "\n",
    "CS = plt.contour(z.T, levels, colors='r', \n",
    "                 origin='lower',             # origin in lower-left corner\n",
    "                 linewidths=1.5)         # outer pixel boundaries\n",
    "\n",
    "CS = plt.contour(U.T, levels, colors='w', \n",
    "                 origin='lower',             # origin in lower-left corner\n",
    "                 linewidths=1.5)         # outer pixel boundaries\n",
    "\n",
    "# Colorbar\n",
    "divider = make_axes_locatable(ax)\n",
    "cax = divider.append_axes(\"right\", size=\"10%\", pad=0.1, aspect=20)\n",
    "cb = plt.colorbar(im, cax=cax)\n",
    "plt.clabel(CS, fontsize=9, inline=1)\n",
    "\n",
    "plt.show()"
   ]
  },
  {
   "cell_type": "markdown",
   "metadata": {
    "collapsed": true
   },
   "source": [
    "# Run in parallel"
   ]
  },
  {
   "cell_type": "code",
   "execution_count": null,
   "metadata": {
    "collapsed": false
   },
   "outputs": [],
   "source": [
    "!mpiexec -n 1 python mpi_example.py 0.5"
   ]
  },
  {
   "cell_type": "code",
   "execution_count": null,
   "metadata": {
    "collapsed": false
   },
   "outputs": [],
   "source": [
    "!mpiexec -n 2 python mpi_example.py 0.5"
   ]
  },
  {
   "cell_type": "code",
   "execution_count": null,
   "metadata": {
    "collapsed": false
   },
   "outputs": [],
   "source": [
    "!mpiexec -n 3 python mpi_example.py 0.5"
   ]
  },
  {
   "cell_type": "code",
   "execution_count": null,
   "metadata": {
    "collapsed": true
   },
   "outputs": [],
   "source": []
  }
 ],
 "metadata": {
  "kernelspec": {
   "display_name": "Python 2",
   "language": "python",
   "name": "python2"
  },
  "language_info": {
   "codemirror_mode": {
    "name": "ipython",
    "version": 2
   },
   "file_extension": ".py",
   "mimetype": "text/x-python",
   "name": "python",
   "nbconvert_exporter": "python",
   "pygments_lexer": "ipython2",
   "version": "2.7.6"
  }
 },
 "nbformat": 4,
 "nbformat_minor": 1
}
