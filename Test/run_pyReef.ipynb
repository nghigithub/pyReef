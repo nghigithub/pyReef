{
 "cells": [
  {
   "cell_type": "code",
   "execution_count": 1,
   "metadata": {
    "collapsed": false
   },
   "outputs": [],
   "source": [
    "%matplotlib inline\n",
    "import matplotlib.pyplot as plt\n",
    "\n",
    "import cmocean\n",
    "\n",
    "%config InlineBackend.figure_format = 'svg'"
   ]
  },
  {
   "cell_type": "code",
   "execution_count": 2,
   "metadata": {
    "collapsed": false
   },
   "outputs": [],
   "source": [
    "from pyReef.model import Model "
   ]
  },
  {
   "cell_type": "markdown",
   "metadata": {},
   "source": [
    "# Initialise model"
   ]
  },
  {
   "cell_type": "code",
   "execution_count": 3,
   "metadata": {
    "collapsed": false
   },
   "outputs": [],
   "source": [
    "# initialise model\n",
    "reef = Model()"
   ]
  },
  {
   "cell_type": "code",
   "execution_count": 4,
   "metadata": {
    "collapsed": false
   },
   "outputs": [],
   "source": [
    "# Define the XmL input file\n",
    "reef.load_xml('input.xml')"
   ]
  },
  {
   "cell_type": "markdown",
   "metadata": {},
   "source": [
    "### Visualise surface parameters "
   ]
  },
  {
   "cell_type": "code",
   "execution_count": 5,
   "metadata": {
    "collapsed": false
   },
   "outputs": [],
   "source": [
    "reef.mPlot.paramInit(z=reef.pyGrid.regZ, sl=reef.force.sealevel)\n",
    "#reef.mPlot.bathymetry(color=cmocean.cm.delta, fsize=(7.5,5), fname='bathy.png', dpi=300)\n",
    "#reef.mPlot.slope(color=cmocean.cm.matter, fsize=(7.5,5), fname='slope.png', dpi=300)"
   ]
  },
  {
   "cell_type": "markdown",
   "metadata": {},
   "source": [
    "# Run model\n",
    "\n",
    "We run the model for a given time period "
   ]
  },
  {
   "cell_type": "code",
   "execution_count": null,
   "metadata": {
    "collapsed": false,
    "scrolled": true
   },
   "outputs": [
    {
     "name": "stdout",
     "output_type": "stream",
     "text": [
      "-----------------\n",
      "Hydrodynamics: waves field 0 and climatic conditions 0:\n",
      "   -   Wave propagation took 4.66 seconds to run.\n",
      "   -   Currents model took 1.09 seconds to run.\n"
     ]
    }
   ],
   "source": [
    "# Run model\n",
    "reef.run_to_time(0.5)"
   ]
  },
  {
   "cell_type": "code",
   "execution_count": null,
   "metadata": {
    "collapsed": false
   },
   "outputs": [],
   "source": [
    "reef.mPlot.bathymetry(color=cmocean.cm.delta, fsize=(7.5,5), fname='bathyXX.png', dpi=300)"
   ]
  },
  {
   "cell_type": "markdown",
   "metadata": {},
   "source": [
    "### Visualise SWAN outputs"
   ]
  },
  {
   "cell_type": "code",
   "execution_count": null,
   "metadata": {
    "collapsed": false
   },
   "outputs": [],
   "source": [
    "hght = reef.force.wavH[0]\n",
    "levels = [0.5,1,1.5,2,2.5,3,3.5,4]\n",
    "reef.mPlot.waveHeight(height=hght, lvls=levels, color=cmocean.cm.thermal, fsize=(7.5,5), fname='height.png', dpi=300)\n",
    "U = reef.force.wavU[0].T\n",
    "V = reef.force.wavV[0].T\n",
    "#reef.mPlot.bottomCurrents(U, V, gauss=1., dens=1, color=cmocean.cm.deep, fsize=(7.5,5), fname='currents.png', dpi=300)"
   ]
  },
  {
   "cell_type": "markdown",
   "metadata": {},
   "source": [
    "### Visualise deposition rate based on Soulsby - Van Rijn formulation"
   ]
  },
  {
   "cell_type": "code",
   "execution_count": null,
   "metadata": {
    "collapsed": false
   },
   "outputs": [],
   "source": [
    "vmin = -0.02\n",
    "vmax = 0.02\n",
    "reef.mPlot.morphochange(reef.hydro.dh[0], min=vmin, max=vmax, gauss=1., \n",
    "                      color=cmocean.cm.balance, fsize=(7.5,5), \n",
    "                      fname='depositionXX.png', dpi=300)"
   ]
  },
  {
   "cell_type": "code",
   "execution_count": null,
   "metadata": {
    "collapsed": true
   },
   "outputs": [],
   "source": []
  },
  {
   "cell_type": "code",
   "execution_count": null,
   "metadata": {
    "collapsed": true
   },
   "outputs": [],
   "source": []
  },
  {
   "cell_type": "code",
   "execution_count": null,
   "metadata": {
    "collapsed": false
   },
   "outputs": [],
   "source": [
    "import numpy\n",
    "x = numpy.array([[1, 3, 6, 10], [0, 5, 6, 8], [3, 1, 6, 0]])\n",
    "print x\n",
    "print x.shape\n",
    "# x(i-1,j) - x(i,j)\n",
    "dx = numpy.zeros(x.shape)\n",
    "dx[1:x.shape[0],:] = -numpy.diff(x,axis=0)\n",
    "dx[0,:] = dx[1,:]\n",
    "\n",
    "print dx\n",
    "# x(i,j) - x(i,j+1)\n",
    "dy = numpy.zeros(x.shape)\n",
    "dy[:,:x.shape[1]-1] = -numpy.diff(x,axis=1)\n",
    "dy[:,-1] = dy[:,-2]\n",
    "print dy"
   ]
  },
  {
   "cell_type": "code",
   "execution_count": null,
   "metadata": {
    "collapsed": false
   },
   "outputs": [],
   "source": [
    "# x(i+1,j) - x(i-1,j)\n",
    "tmp1 = numpy.zeros(x.shape)\n",
    "tmp1[1:x.shape[0],:] = -numpy.diff(x,axis=0)\n",
    "tmp1[0,:] = tmp1[1,:]\n",
    "print tmp1\n",
    "tmp2 = numpy.zeros(x.shape)\n",
    "tmp2[:x.shape[0]-1,:] = -numpy.diff(x,axis=0)\n",
    "tmp2[-1,:] = tmp2[-2,:]\n",
    "print tmp2\n",
    "sum1 = -(tmp1+tmp2)\n",
    "sum1[0,:] = sum1[1,:]\n",
    "sum1[-1,:] = sum1[-2,:]\n",
    "print sum1"
   ]
  },
  {
   "cell_type": "code",
   "execution_count": null,
   "metadata": {
    "collapsed": false
   },
   "outputs": [],
   "source": [
    "tmp = numpy.zeros(x.shape)\n",
    "tmp[1:-1,:] = x[2:,:]-x[:-2,:]\n",
    "tmp[0,:] = tmp[1,:]\n",
    "tmp[-1,:] = tmp[-2,:]\n",
    "print tmp"
   ]
  },
  {
   "cell_type": "code",
   "execution_count": null,
   "metadata": {
    "collapsed": false
   },
   "outputs": [],
   "source": [
    "tmp1 = numpy.zeros(x.shape)\n",
    "tmp1[:,1:x.shape[1]] = -numpy.diff(x,axis=1)\n",
    "tmp1[:,0] = tmp1[:,1]\n",
    "tmp2 = numpy.zeros(x.shape)\n",
    "tmp2[:,:x.shape[1]-1] = -numpy.diff(x,axis=1)\n",
    "tmp2[:,-1] = tmp2[:,-2]\n",
    "sum2 = -(tmp1+tmp2)\n",
    "sum2[:,0] = sum2[:,1]\n",
    "sum2[:,-1] = sum2[:,-2]\n",
    "print sum2"
   ]
  },
  {
   "cell_type": "code",
   "execution_count": null,
   "metadata": {
    "collapsed": false
   },
   "outputs": [],
   "source": [
    "sum2 = numpy.zeros(x.shape)\n",
    "sum2[:,1:-1] = x[:,2:]-x[:,:-2]\n",
    "sum2[:,0] = sum2[:,1]\n",
    "sum2[:,-1] = sum2[:,-2]\n",
    "print sum2"
   ]
  },
  {
   "cell_type": "code",
   "execution_count": null,
   "metadata": {
    "collapsed": false
   },
   "outputs": [],
   "source": [
    "dx2 = numpy.zeros(x.shape)\n",
    "dx2[1:,:] = x[:-1,:]-x[1:,:]\n",
    "dx2[0,:] = dx2[1,:]\n",
    "print dx2\n",
    "dy2 = numpy.zeros(x.shape)\n",
    "dy2[:,:-1] = x[:,:-1]-x[:,1:]\n",
    "dy2[:,-1] = dy2[:,-2]\n",
    "print dy2"
   ]
  },
  {
   "cell_type": "markdown",
   "metadata": {},
   "source": [
    "# Run next time step"
   ]
  },
  {
   "cell_type": "code",
   "execution_count": null,
   "metadata": {
    "collapsed": false
   },
   "outputs": [],
   "source": [
    "# Run model\n",
    "reef.run_to_time(1.)"
   ]
  },
  {
   "cell_type": "code",
   "execution_count": null,
   "metadata": {
    "collapsed": false
   },
   "outputs": [],
   "source": [
    "hght = reef.force.wavH[0]\n",
    "levels = [0.5,1,1.5,2,2.5,3,3.5,4]\n",
    "reef.mPlot.waveHeight(height=hght, lvls=levels, color=cmocean.cm.thermal, fsize=(7.5,5), fname='height.png', dpi=300)\n",
    "\n",
    "U = reef.force.wavU[0].T\n",
    "V = reef.force.wavV[0].T\n",
    "reef.mPlot.bottomCurrents(U, V, gauss=3., dens=1, color=cmocean.cm.deep, fsize=(7.5,5), fname='currents.png', dpi=300)"
   ]
  },
  {
   "cell_type": "code",
   "execution_count": null,
   "metadata": {
    "collapsed": true
   },
   "outputs": [],
   "source": []
  },
  {
   "cell_type": "markdown",
   "metadata": {
    "collapsed": true
   },
   "source": [
    "# Run in parallel"
   ]
  },
  {
   "cell_type": "code",
   "execution_count": null,
   "metadata": {
    "collapsed": false
   },
   "outputs": [],
   "source": [
    "!mpiexec -n 1 python mpi_example.py 0.5"
   ]
  },
  {
   "cell_type": "code",
   "execution_count": null,
   "metadata": {
    "collapsed": false
   },
   "outputs": [],
   "source": [
    "!mpiexec -n 2 python mpi_example.py 0.5"
   ]
  },
  {
   "cell_type": "code",
   "execution_count": null,
   "metadata": {
    "collapsed": false
   },
   "outputs": [],
   "source": [
    "!mpiexec -n 3 python mpi_example.py 0.5"
   ]
  },
  {
   "cell_type": "code",
   "execution_count": null,
   "metadata": {
    "collapsed": true
   },
   "outputs": [],
   "source": []
  }
 ],
 "metadata": {
  "kernelspec": {
   "display_name": "Python 2",
   "language": "python",
   "name": "python2"
  },
  "language_info": {
   "codemirror_mode": {
    "name": "ipython",
    "version": 2
   },
   "file_extension": ".py",
   "mimetype": "text/x-python",
   "name": "python",
   "nbconvert_exporter": "python",
   "pygments_lexer": "ipython2",
   "version": "2.7.6"
  }
 },
 "nbformat": 4,
 "nbformat_minor": 1
}
