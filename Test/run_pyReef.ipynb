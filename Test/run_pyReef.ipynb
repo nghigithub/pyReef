{
 "cells": [
  {
   "cell_type": "code",
   "execution_count": null,
   "metadata": {
    "collapsed": false
   },
   "outputs": [],
   "source": [
    "%matplotlib inline\n",
    "import matplotlib.pyplot as plt\n",
    "\n",
    "import numpy\n",
    "import cmocean\n",
    "\n",
    "%config InlineBackend.figure_format = 'svg'"
   ]
  },
  {
   "cell_type": "code",
   "execution_count": null,
   "metadata": {
    "collapsed": false
   },
   "outputs": [],
   "source": [
    "from pyReef.model import Model "
   ]
  },
  {
   "cell_type": "markdown",
   "metadata": {},
   "source": [
    "# Initialise model"
   ]
  },
  {
   "cell_type": "code",
   "execution_count": null,
   "metadata": {
    "collapsed": false
   },
   "outputs": [],
   "source": [
    "# initialise model\n",
    "reef = Model()"
   ]
  },
  {
   "cell_type": "code",
   "execution_count": null,
   "metadata": {
    "collapsed": false,
    "scrolled": true
   },
   "outputs": [],
   "source": [
    "# Define the XmL input file\n",
    "reef.load_xml('input.xml')"
   ]
  },
  {
   "cell_type": "code",
   "execution_count": null,
   "metadata": {
    "collapsed": false
   },
   "outputs": [],
   "source": [
    "reef.pyStrat.stratTH.shape,reef.pyGrid.regZ.shape"
   ]
  },
  {
   "cell_type": "markdown",
   "metadata": {},
   "source": [
    "### Visualise surface parameters "
   ]
  },
  {
   "cell_type": "code",
   "execution_count": null,
   "metadata": {
    "collapsed": false
   },
   "outputs": [],
   "source": [
    "reef.mPlot.paramInit(z=reef.pyGrid.regZ, sl=reef.force.sealevel)\n",
    "#reef.mPlot.bathymetry(color=cmocean.cm.delta, fsize=(7.5,5), fname='bathy.png', dpi=300)\n",
    "#reef.mPlot.slope(color=cmocean.cm.matter, fsize=(7.5,5), fname='slope.png', dpi=300)"
   ]
  },
  {
   "cell_type": "markdown",
   "metadata": {},
   "source": [
    "# Run model\n",
    "\n",
    "We run the model for a given time period "
   ]
  },
  {
   "cell_type": "code",
   "execution_count": null,
   "metadata": {
    "collapsed": false,
    "scrolled": true
   },
   "outputs": [],
   "source": [
    "# Run model\n",
    "reef.run_to_time(10)"
   ]
  },
  {
   "cell_type": "markdown",
   "metadata": {},
   "source": [
    "### Visualise deposition rate based on Soulsby - Van Rijn formulation"
   ]
  },
  {
   "cell_type": "code",
   "execution_count": null,
   "metadata": {
    "collapsed": false
   },
   "outputs": [],
   "source": [
    "vmin = -0.25\n",
    "vmax = 0.25\n",
    "rr = reef.hydro.dh[0]\n",
    "print rr.min(),rr.max()\n",
    "reef.mPlot.morphochange(rr, min=vmin, max=vmax, gauss=0, \n",
    "                      color=cmocean.cm.curl, fsize=(7.5,5), \n",
    "                      fname='deposition.png', dpi=300)"
   ]
  },
  {
   "cell_type": "code",
   "execution_count": null,
   "metadata": {
    "collapsed": false
   },
   "outputs": [],
   "source": [
    "reef.mPlot.bathymetry(color=cmocean.cm.delta, fsize=(7.5,5), fname='bathy1.png', dpi=300)"
   ]
  },
  {
   "cell_type": "markdown",
   "metadata": {},
   "source": [
    "### Visualise SWAN outputs"
   ]
  },
  {
   "cell_type": "code",
   "execution_count": null,
   "metadata": {
    "collapsed": false
   },
   "outputs": [],
   "source": [
    "hght = reef.force.wavH[0]\n",
    "levels = [0.5,1,1.5,2,2.5,3,3.5,4]\n",
    "reef.mPlot.waveHeight(height=hght, lvls=levels, color=cmocean.cm.thermal, fsize=(7.5,5), fname='height.png', dpi=300)\n",
    "U = reef.force.wavU[0].T\n",
    "V = reef.force.wavV[0].T\n",
    "reef.mPlot.bottomCurrents(U, V, gauss=1., dens=3, color=cmocean.cm.deep, fsize=(7.5,5), fname='currents.png', dpi=300)"
   ]
  },
  {
   "cell_type": "code",
   "execution_count": null,
   "metadata": {
    "collapsed": false
   },
   "outputs": [],
   "source": [
    "speed = numpy.sqrt(reef.force.wavU[0]**2+reef.force.wavV[0]**2)\n",
    "levels = [0.5,1,1.5,2,2.5,3]\n",
    "reef.mPlot.waveHeight(height=speed, lvls=levels, color=cmocean.cm.thermal, fsize=(7.5,5), fname='height.png', dpi=300)"
   ]
  },
  {
   "cell_type": "markdown",
   "metadata": {},
   "source": [
    "# Run next time step"
   ]
  },
  {
   "cell_type": "code",
   "execution_count": null,
   "metadata": {
    "collapsed": false
   },
   "outputs": [],
   "source": [
    "# Run model\n",
    "reef.run_to_time(0.5)"
   ]
  },
  {
   "cell_type": "code",
   "execution_count": null,
   "metadata": {
    "collapsed": false
   },
   "outputs": [],
   "source": [
    "vmin = -0.5\n",
    "vmax = 0.5\n",
    "rr = reef.hydro.dh[0]\n",
    "print rr.min(),rr.max()\n",
    "reef.mPlot.morphochange(rr, min=vmin, max=vmax, gauss=0, \n",
    "                      color=cmocean.cm.curl, fsize=(7.5,5), \n",
    "                      fname='deposition_suspload.png', dpi=300)"
   ]
  },
  {
   "cell_type": "code",
   "execution_count": null,
   "metadata": {
    "collapsed": false
   },
   "outputs": [],
   "source": [
    "hght = reef.force.wavH[0]\n",
    "levels = [0.5,1,1.5,2,2.5,3,3.5,4]\n",
    "reef.mPlot.waveHeight(height=hght, lvls=levels, color=cmocean.cm.thermal, fsize=(7.5,5), fname='height.png', dpi=300)\n",
    "\n",
    "U = reef.force.wavU[0].T\n",
    "V = reef.force.wavV[0].T\n",
    "reef.mPlot.bottomCurrents(U, V, gauss=1., dens=3, color=cmocean.cm.deep, fsize=(7.5,5), fname='currents.png', dpi=300)"
   ]
  },
  {
   "cell_type": "markdown",
   "metadata": {
    "collapsed": true
   },
   "source": [
    "# Run in parallel"
   ]
  },
  {
   "cell_type": "code",
   "execution_count": null,
   "metadata": {
    "collapsed": false
   },
   "outputs": [],
   "source": [
    "!mpiexec -n 1 python mpi_example.py 0.5"
   ]
  },
  {
   "cell_type": "code",
   "execution_count": null,
   "metadata": {
    "collapsed": false
   },
   "outputs": [],
   "source": [
    "!mpiexec -n 2 python mpi_example.py 0.5"
   ]
  },
  {
   "cell_type": "code",
   "execution_count": null,
   "metadata": {
    "collapsed": false
   },
   "outputs": [],
   "source": [
    "!mpiexec -n 3 python mpi_example.py 0.5"
   ]
  },
  {
   "cell_type": "code",
   "execution_count": null,
   "metadata": {
    "collapsed": true
   },
   "outputs": [],
   "source": []
  }
 ],
 "metadata": {
  "kernelspec": {
   "display_name": "Python 2",
   "language": "python",
   "name": "python2"
  },
  "language_info": {
   "codemirror_mode": {
    "name": "ipython",
    "version": 2
   },
   "file_extension": ".py",
   "mimetype": "text/x-python",
   "name": "python",
   "nbconvert_exporter": "python",
   "pygments_lexer": "ipython2",
   "version": "2.7.6"
  }
 },
 "nbformat": 4,
 "nbformat_minor": 1
}
