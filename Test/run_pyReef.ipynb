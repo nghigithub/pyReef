{
 "cells": [
  {
   "cell_type": "code",
   "execution_count": 1,
   "metadata": {
    "collapsed": false
   },
   "outputs": [],
   "source": [
    "%matplotlib inline\n",
    "import matplotlib.pyplot as plt\n",
    "\n",
    "import numpy\n",
    "import cmocean\n",
    "\n",
    "%config InlineBackend.figure_format = 'svg'"
   ]
  },
  {
   "cell_type": "code",
   "execution_count": 2,
   "metadata": {
    "collapsed": false
   },
   "outputs": [],
   "source": [
    "from pyReef.model import Model "
   ]
  },
  {
   "cell_type": "markdown",
   "metadata": {},
   "source": [
    "# Initialise model"
   ]
  },
  {
   "cell_type": "code",
   "execution_count": 3,
   "metadata": {
    "collapsed": false
   },
   "outputs": [],
   "source": [
    "# initialise model\n",
    "reef = Model()"
   ]
  },
  {
   "cell_type": "code",
   "execution_count": 4,
   "metadata": {
    "collapsed": false,
    "scrolled": true
   },
   "outputs": [],
   "source": [
    "# Define the XmL input file\n",
    "reef.load_xml('input.xml')"
   ]
  },
  {
   "cell_type": "markdown",
   "metadata": {},
   "source": [
    "### Visualise surface parameters "
   ]
  },
  {
   "cell_type": "code",
   "execution_count": 5,
   "metadata": {
    "collapsed": false
   },
   "outputs": [],
   "source": [
    "reef.mPlot.paramInit(z=reef.pyGrid.regZ, sl=reef.force.sealevel)\n",
    "#reef.mPlot.bathymetry(color=cmocean.cm.delta, fsize=(7.5,5), fname='bathy.png', dpi=300)\n",
    "#reef.mPlot.slope(color=cmocean.cm.matter, fsize=(7.5,5), fname='slope.png', dpi=300)"
   ]
  },
  {
   "cell_type": "markdown",
   "metadata": {},
   "source": [
    "# Run model\n",
    "\n",
    "We run the model for a given time period "
   ]
  },
  {
   "cell_type": "code",
   "execution_count": 7,
   "metadata": {
    "collapsed": false,
    "scrolled": true
   },
   "outputs": [
    {
     "name": "stdout",
     "output_type": "stream",
     "text": [
      "tNow = 1.0 [yr]\n",
      "-----------------\n",
      "Hydrodynamics: waves field 0 and climatic conditions 0:\n",
      "   -   Wave propagation took 4.47 seconds to run.\n",
      "   -   Currents model took 0.96 seconds to run.\n",
      "     +   Erosion computation took 0.18 seconds to run.\n",
      "     +   Transport streamlines took 5.55 seconds to run.\n",
      "     +   Deposition computation took 1.12 seconds to run and converged in 21 iterations.\n",
      "   -   Morphological change took 6.85 seconds to run.\n",
      "   -   Mass balance check ok.\n",
      "tNow = 1.25 [yr]\n",
      "-----------------\n",
      "Hydrodynamics: waves field 0 and climatic conditions 0:\n",
      "   -   Wave propagation took 4.24 seconds to run.\n",
      "   -   Currents model took 0.97 seconds to run.\n",
      "     +   Erosion computation took 0.17 seconds to run.\n",
      "     +   Transport streamlines took 5.47 seconds to run.\n",
      "     +   Deposition computation took 1.11 seconds to run and converged in 21 iterations.\n",
      "   -   Morphological change took 6.76 seconds to run.\n",
      "   -   Mass balance check ok.\n",
      "tNow = 1.5 [yr]\n",
      "-----------------\n",
      "Hydrodynamics: waves field 0 and climatic conditions 0:\n",
      "   -   Wave propagation took 4.31 seconds to run.\n",
      "   -   Currents model took 0.96 seconds to run.\n",
      "     +   Erosion computation took 0.17 seconds to run.\n",
      "     +   Transport streamlines took 5.43 seconds to run.\n",
      "     +   Deposition computation took 1.13 seconds to run and converged in 21 iterations.\n",
      "   -   Morphological change took 6.73 seconds to run.\n",
      "   -   Mass balance check ok.\n",
      "tNow = 1.75 [yr]\n",
      "-----------------\n",
      "Hydrodynamics: waves field 0 and climatic conditions 0:\n",
      "   -   Wave propagation took 4.05 seconds to run.\n",
      "   -   Currents model took 0.93 seconds to run.\n",
      "     +   Erosion computation took 0.15 seconds to run.\n",
      "     +   Transport streamlines took 5.51 seconds to run.\n",
      "     +   Deposition computation took 1.04 seconds to run and converged in 20 iterations.\n",
      "   -   Morphological change took 6.71 seconds to run.\n",
      "   -   Mass balance check ok.\n",
      "tNow = 2.0 [yr]\n",
      "-----------------\n",
      "Hydrodynamics: waves field 0 and climatic conditions 0:\n",
      "   -   Wave propagation took 4.24 seconds to run.\n",
      "   -   Currents model took 0.90 seconds to run.\n",
      "     +   Erosion computation took 0.17 seconds to run.\n",
      "     +   Transport streamlines took 5.44 seconds to run.\n",
      "     +   Deposition computation took 1.06 seconds to run and converged in 20 iterations.\n",
      "   -   Morphological change took 6.66 seconds to run.\n",
      "   -   Mass balance check ok.\n",
      "tNow = 2.25 [yr]\n",
      "-----------------\n",
      "Hydrodynamics: waves field 0 and climatic conditions 0:\n",
      "   -   Wave propagation took 4.19 seconds to run.\n",
      "   -   Currents model took 0.98 seconds to run.\n",
      "     +   Erosion computation took 0.16 seconds to run.\n",
      "     +   Transport streamlines took 5.32 seconds to run.\n",
      "     +   Deposition computation took 1.04 seconds to run and converged in 20 iterations.\n",
      "   -   Morphological change took 6.52 seconds to run.\n",
      "   -   Mass balance check ok.\n",
      "tNow = 2.5 [yr]\n",
      "-----------------\n",
      "Hydrodynamics: waves field 0 and climatic conditions 0:\n",
      "   -   Wave propagation took 4.25 seconds to run.\n",
      "   -   Currents model took 0.96 seconds to run.\n",
      "     +   Erosion computation took 0.18 seconds to run.\n",
      "     +   Transport streamlines took 5.45 seconds to run.\n",
      "     +   Deposition computation took 1.04 seconds to run and converged in 20 iterations.\n",
      "   -   Morphological change took 6.67 seconds to run.\n",
      "   -   Mass balance check ok.\n",
      "tNow = 2.75 [yr]\n",
      "-----------------\n",
      "Hydrodynamics: waves field 0 and climatic conditions 0:\n",
      "   -   Wave propagation took 4.18 seconds to run.\n",
      "   -   Currents model took 0.99 seconds to run.\n",
      "     +   Erosion computation took 0.16 seconds to run.\n",
      "     +   Transport streamlines took 5.96 seconds to run.\n",
      "     +   Deposition computation took 1.09 seconds to run and converged in 20 iterations.\n",
      "   -   Morphological change took 7.21 seconds to run.\n",
      "   -   Mass balance check ok.\n",
      "tNow = 3.0 [yr]\n",
      "-----------------\n",
      "Hydrodynamics: waves field 0 and climatic conditions 0:\n",
      "   -   Wave propagation took 4.22 seconds to run.\n",
      "   -   Currents model took 0.95 seconds to run.\n",
      "     +   Erosion computation took 0.17 seconds to run.\n",
      "     +   Transport streamlines took 5.68 seconds to run.\n",
      "     +   Deposition computation took 1.04 seconds to run and converged in 20 iterations.\n",
      "   -   Morphological change took 6.89 seconds to run.\n",
      "   -   Mass balance check ok.\n",
      "tNow = 3.25 [yr]\n",
      "-----------------\n",
      "Hydrodynamics: waves field 0 and climatic conditions 0:\n",
      "   -   Wave propagation took 4.14 seconds to run.\n",
      "   -   Currents model took 0.91 seconds to run.\n",
      "     +   Erosion computation took 0.17 seconds to run.\n",
      "     +   Transport streamlines took 5.75 seconds to run.\n",
      "     +   Deposition computation took 1.05 seconds to run and converged in 20 iterations.\n",
      "   -   Morphological change took 6.97 seconds to run.\n",
      "   -   Mass balance check ok.\n",
      "tNow = 3.5 [yr]\n",
      "-----------------\n",
      "Hydrodynamics: waves field 0 and climatic conditions 0:\n",
      "   -   Wave propagation took 4.44 seconds to run.\n",
      "   -   Currents model took 1.20 seconds to run.\n",
      "     +   Erosion computation took 0.23 seconds to run.\n",
      "     +   Transport streamlines took 6.69 seconds to run.\n",
      "     +   Deposition computation took 1.09 seconds to run and converged in 19 iterations.\n",
      "   -   Morphological change took 8.02 seconds to run.\n",
      "   -   Mass balance check ok.\n",
      "tNow = 3.75 [yr]\n",
      "-----------------\n",
      "Hydrodynamics: waves field 0 and climatic conditions 0:\n",
      "   -   Wave propagation took 4.50 seconds to run.\n",
      "   -   Currents model took 1.06 seconds to run.\n",
      "     +   Erosion computation took 0.19 seconds to run.\n",
      "     +   Transport streamlines took 5.76 seconds to run.\n",
      "     +   Deposition computation took 1.04 seconds to run and converged in 19 iterations.\n",
      "   -   Morphological change took 6.99 seconds to run.\n",
      "   -   Mass balance check ok.\n",
      "tNow = 4.0 [yr]\n",
      "-----------------\n",
      "Hydrodynamics: waves field 0 and climatic conditions 0:\n",
      "   -   Wave propagation took 4.11 seconds to run.\n",
      "   -   Currents model took 0.99 seconds to run.\n",
      "     +   Erosion computation took 0.19 seconds to run.\n",
      "     +   Transport streamlines took 5.52 seconds to run.\n",
      "     +   Deposition computation took 1.23 seconds to run and converged in 19 iterations.\n",
      "   -   Morphological change took 6.95 seconds to run.\n",
      "   -   Mass balance check ok.\n",
      "tNow = 4.25 [yr]\n",
      "-----------------\n",
      "Hydrodynamics: waves field 0 and climatic conditions 0:\n",
      "   -   Wave propagation took 4.49 seconds to run.\n",
      "   -   Currents model took 1.03 seconds to run.\n",
      "     +   Erosion computation took 0.18 seconds to run.\n",
      "     +   Transport streamlines took 5.47 seconds to run.\n",
      "     +   Deposition computation took 1.03 seconds to run and converged in 19 iterations.\n",
      "   -   Morphological change took 6.67 seconds to run.\n",
      "   -   Mass balance check ok.\n",
      "tNow = 4.5 [yr]\n",
      "-----------------\n",
      "Hydrodynamics: waves field 0 and climatic conditions 0:\n",
      "   -   Wave propagation took 4.23 seconds to run.\n",
      "   -   Currents model took 0.99 seconds to run.\n",
      "     +   Erosion computation took 0.17 seconds to run.\n",
      "     +   Transport streamlines took 5.55 seconds to run.\n",
      "     +   Deposition computation took 1.01 seconds to run and converged in 19 iterations.\n",
      "   -   Morphological change took 6.73 seconds to run.\n",
      "   -   Mass balance check ok.\n",
      "tNow = 4.75 [yr]\n",
      "-----------------\n",
      "Hydrodynamics: waves field 0 and climatic conditions 0:\n",
      "   -   Wave propagation took 4.18 seconds to run.\n",
      "   -   Currents model took 1.09 seconds to run.\n",
      "     +   Erosion computation took 0.16 seconds to run.\n",
      "     +   Transport streamlines took 5.40 seconds to run.\n",
      "     +   Deposition computation took 1.02 seconds to run and converged in 19 iterations.\n",
      "   -   Morphological change took 6.58 seconds to run.\n",
      "   -   Mass balance check ok.\n",
      "tNow = 5.0 [yr]\n",
      "-----------------\n",
      "Hydrodynamics: waves field 0 and climatic conditions 0:\n",
      "   -   Wave propagation took 4.11 seconds to run.\n",
      "   -   Currents model took 0.94 seconds to run.\n",
      "     +   Erosion computation took 0.18 seconds to run.\n",
      "     +   Transport streamlines took 5.43 seconds to run.\n",
      "     +   Deposition computation took 0.98 seconds to run and converged in 19 iterations.\n",
      "   -   Morphological change took 6.59 seconds to run.\n",
      "   -   Mass balance check ok.\n",
      "tNow = 5.25 [yr]\n",
      "-----------------\n",
      "Hydrodynamics: waves field 0 and climatic conditions 0:\n",
      "   -   Wave propagation took 4.12 seconds to run.\n",
      "   -   Currents model took 0.99 seconds to run.\n",
      "     +   Erosion computation took 0.19 seconds to run.\n",
      "     +   Transport streamlines took 5.50 seconds to run.\n",
      "     +   Deposition computation took 1.02 seconds to run and converged in 19 iterations.\n",
      "   -   Morphological change took 6.70 seconds to run.\n",
      "   -   Mass balance check ok.\n",
      "tNow = 5.5 [yr]\n",
      "-----------------\n",
      "Hydrodynamics: waves field 0 and climatic conditions 0:\n",
      "   -   Wave propagation took 4.28 seconds to run.\n",
      "   -   Currents model took 1.18 seconds to run.\n",
      "     +   Erosion computation took 0.18 seconds to run.\n",
      "     +   Transport streamlines took 5.17 seconds to run.\n",
      "     +   Deposition computation took 0.95 seconds to run and converged in 19 iterations.\n",
      "   -   Morphological change took 6.30 seconds to run.\n",
      "   -   Mass balance check ok.\n",
      "tNow = 5.75 [yr]\n",
      "-----------------\n",
      "Hydrodynamics: waves field 0 and climatic conditions 0:\n",
      "   -   Wave propagation took 4.13 seconds to run.\n",
      "   -   Currents model took 0.98 seconds to run.\n",
      "     +   Erosion computation took 0.18 seconds to run.\n",
      "     +   Transport streamlines took 5.43 seconds to run.\n",
      "     +   Deposition computation took 0.92 seconds to run and converged in 18 iterations.\n",
      "   -   Morphological change took 6.53 seconds to run.\n",
      "   -   Mass balance check ok.\n",
      "tNow = 6.0 [yr]\n",
      "-----------------\n",
      "Hydrodynamics: waves field 0 and climatic conditions 0:\n",
      "   -   Wave propagation took 4.10 seconds to run.\n",
      "   -   Currents model took 0.95 seconds to run.\n",
      "     +   Erosion computation took 0.17 seconds to run.\n",
      "     +   Transport streamlines took 5.29 seconds to run.\n",
      "     +   Deposition computation took 0.90 seconds to run and converged in 18 iterations.\n",
      "   -   Morphological change took 6.36 seconds to run.\n",
      "   -   Mass balance check ok.\n",
      "tNow = 6.25 [yr]\n",
      "-----------------\n",
      "Hydrodynamics: waves field 0 and climatic conditions 0:\n",
      "   -   Wave propagation took 4.14 seconds to run.\n",
      "   -   Currents model took 0.95 seconds to run.\n",
      "     +   Erosion computation took 0.17 seconds to run.\n",
      "     +   Transport streamlines took 5.43 seconds to run.\n",
      "     +   Deposition computation took 0.96 seconds to run and converged in 18 iterations.\n",
      "   -   Morphological change took 6.56 seconds to run.\n",
      "   -   Mass balance check ok.\n",
      "tNow = 6.5 [yr]\n",
      "-----------------\n",
      "Hydrodynamics: waves field 0 and climatic conditions 0:\n",
      "   -   Wave propagation took 4.20 seconds to run.\n",
      "   -   Currents model took 0.88 seconds to run.\n",
      "     +   Erosion computation took 0.16 seconds to run.\n",
      "     +   Transport streamlines took 5.29 seconds to run.\n",
      "     +   Deposition computation took 0.93 seconds to run and converged in 18 iterations.\n",
      "   -   Morphological change took 6.38 seconds to run.\n",
      "   -   Mass balance check ok.\n",
      "tNow = 6.75 [yr]\n",
      "-----------------\n",
      "Hydrodynamics: waves field 0 and climatic conditions 0:\n",
      "   -   Wave propagation took 4.29 seconds to run.\n",
      "   -   Currents model took 0.99 seconds to run.\n",
      "     +   Erosion computation took 0.19 seconds to run.\n",
      "     +   Transport streamlines took 5.53 seconds to run.\n",
      "     +   Deposition computation took 0.92 seconds to run and converged in 18 iterations.\n",
      "   -   Morphological change took 6.64 seconds to run.\n",
      "   -   Mass balance check ok.\n",
      "tNow = 7.0 [yr]\n",
      "-----------------\n",
      "Hydrodynamics: waves field 0 and climatic conditions 0:\n",
      "   -   Wave propagation took 3.90 seconds to run.\n",
      "   -   Currents model took 0.89 seconds to run.\n",
      "     +   Erosion computation took 0.17 seconds to run.\n",
      "     +   Transport streamlines took 5.11 seconds to run.\n",
      "     +   Deposition computation took 0.89 seconds to run and converged in 18 iterations.\n",
      "   -   Morphological change took 6.16 seconds to run.\n",
      "   -   Mass balance check ok.\n",
      "tNow = 7.25 [yr]\n",
      "-----------------\n",
      "Hydrodynamics: waves field 0 and climatic conditions 0:\n",
      "   -   Wave propagation took 3.93 seconds to run.\n",
      "   -   Currents model took 0.92 seconds to run.\n",
      "     +   Erosion computation took 0.17 seconds to run.\n",
      "     +   Transport streamlines took 4.95 seconds to run.\n",
      "     +   Deposition computation took 0.88 seconds to run and converged in 18 iterations.\n",
      "   -   Morphological change took 5.99 seconds to run.\n",
      "   -   Mass balance check ok.\n",
      "tNow = 7.5 [yr]\n",
      "-----------------\n",
      "Hydrodynamics: waves field 0 and climatic conditions 0:\n",
      "   -   Wave propagation took 3.95 seconds to run.\n",
      "   -   Currents model took 0.87 seconds to run.\n",
      "     +   Erosion computation took 0.16 seconds to run.\n",
      "     +   Transport streamlines took 4.94 seconds to run.\n",
      "     +   Deposition computation took 0.86 seconds to run and converged in 18 iterations.\n",
      "   -   Morphological change took 5.97 seconds to run.\n",
      "   -   Mass balance check ok.\n",
      "tNow = 7.75 [yr]\n",
      "-----------------\n",
      "Hydrodynamics: waves field 0 and climatic conditions 0:\n",
      "   -   Wave propagation took 3.88 seconds to run.\n",
      "   -   Currents model took 0.88 seconds to run.\n",
      "     +   Erosion computation took 0.17 seconds to run.\n",
      "     +   Transport streamlines took 4.99 seconds to run.\n",
      "     +   Deposition computation took 0.85 seconds to run and converged in 18 iterations.\n",
      "   -   Morphological change took 6.01 seconds to run.\n",
      "   -   Mass balance check ok.\n",
      "tNow = 8.0 [yr]\n",
      "-----------------\n",
      "Hydrodynamics: waves field 0 and climatic conditions 0:\n",
      "   -   Wave propagation took 3.90 seconds to run.\n",
      "   -   Currents model took 0.87 seconds to run.\n",
      "     +   Erosion computation took 0.17 seconds to run.\n",
      "     +   Transport streamlines took 5.07 seconds to run.\n",
      "     +   Deposition computation took 0.87 seconds to run and converged in 18 iterations.\n",
      "   -   Morphological change took 6.12 seconds to run.\n",
      "   -   Mass balance check ok.\n",
      "tNow = 8.25 [yr]\n",
      "-----------------\n",
      "Hydrodynamics: waves field 0 and climatic conditions 0:\n",
      "   -   Wave propagation took 3.91 seconds to run.\n",
      "   -   Currents model took 0.88 seconds to run.\n",
      "     +   Erosion computation took 0.17 seconds to run.\n",
      "     +   Transport streamlines took 5.05 seconds to run.\n",
      "     +   Deposition computation took 0.87 seconds to run and converged in 18 iterations.\n",
      "   -   Morphological change took 6.08 seconds to run.\n",
      "   -   Mass balance check ok.\n",
      "tNow = 8.5 [yr]\n",
      "-----------------\n",
      "Hydrodynamics: waves field 0 and climatic conditions 0:\n",
      "   -   Wave propagation took 3.86 seconds to run.\n",
      "   -   Currents model took 0.86 seconds to run.\n",
      "     +   Erosion computation took 0.16 seconds to run.\n",
      "     +   Transport streamlines took 5.09 seconds to run.\n",
      "     +   Deposition computation took 0.89 seconds to run and converged in 18 iterations.\n",
      "   -   Morphological change took 6.15 seconds to run.\n",
      "   -   Mass balance check ok.\n",
      "tNow = 8.75 [yr]\n",
      "-----------------\n",
      "Hydrodynamics: waves field 0 and climatic conditions 0:\n",
      "   -   Wave propagation took 4.00 seconds to run.\n",
      "   -   Currents model took 0.88 seconds to run.\n",
      "     +   Erosion computation took 0.17 seconds to run.\n",
      "     +   Transport streamlines took 4.94 seconds to run.\n",
      "     +   Deposition computation took 0.94 seconds to run and converged in 18 iterations.\n",
      "   -   Morphological change took 6.04 seconds to run.\n",
      "   -   Mass balance check ok.\n",
      "tNow = 9.0 [yr]\n",
      "-----------------\n",
      "Hydrodynamics: waves field 0 and climatic conditions 0:\n",
      "   -   Wave propagation took 3.88 seconds to run.\n",
      "   -   Currents model took 0.88 seconds to run.\n",
      "     +   Erosion computation took 0.18 seconds to run.\n",
      "     +   Transport streamlines took 4.95 seconds to run.\n",
      "     +   Deposition computation took 0.87 seconds to run and converged in 18 iterations.\n",
      "   -   Morphological change took 6.00 seconds to run.\n",
      "   -   Mass balance check ok.\n",
      "tNow = 9.25 [yr]\n",
      "-----------------\n",
      "Hydrodynamics: waves field 0 and climatic conditions 0:\n",
      "   -   Wave propagation took 3.87 seconds to run.\n",
      "   -   Currents model took 0.89 seconds to run.\n",
      "     +   Erosion computation took 0.16 seconds to run.\n",
      "     +   Transport streamlines took 5.03 seconds to run.\n",
      "     +   Deposition computation took 0.87 seconds to run and converged in 18 iterations.\n",
      "   -   Morphological change took 6.06 seconds to run.\n",
      "   -   Mass balance check ok.\n",
      "tNow = 9.5 [yr]\n",
      "-----------------\n",
      "Hydrodynamics: waves field 0 and climatic conditions 0:\n",
      "   -   Wave propagation took 3.86 seconds to run.\n",
      "   -   Currents model took 0.87 seconds to run.\n",
      "     +   Erosion computation took 0.16 seconds to run.\n",
      "     +   Transport streamlines took 5.04 seconds to run.\n",
      "     +   Deposition computation took 0.86 seconds to run and converged in 18 iterations.\n",
      "   -   Morphological change took 6.07 seconds to run.\n",
      "   -   Mass balance check ok.\n",
      "tNow = 9.75 [yr]\n",
      "-----------------\n",
      "Hydrodynamics: waves field 0 and climatic conditions 0:\n",
      "   -   Wave propagation took 3.90 seconds to run.\n",
      "   -   Currents model took 0.93 seconds to run.\n",
      "     +   Erosion computation took 0.16 seconds to run.\n",
      "     +   Transport streamlines took 4.96 seconds to run.\n",
      "     +   Deposition computation took 0.86 seconds to run and converged in 18 iterations.\n",
      "   -   Morphological change took 5.98 seconds to run.\n",
      "   -   Mass balance check ok.\n",
      "tNow = 10.0 [yr]\n"
     ]
    }
   ],
   "source": [
    "# Run model\n",
    "reef.run_to_time(10.)"
   ]
  },
  {
   "cell_type": "markdown",
   "metadata": {},
   "source": [
    "### Visualise deposition rate based on Soulsby - Van Rijn formulation"
   ]
  },
  {
   "cell_type": "code",
   "execution_count": null,
   "metadata": {
    "collapsed": false
   },
   "outputs": [],
   "source": [
    "vmin = -0.5\n",
    "vmax = 0.5\n",
    "rr = reef.hydro.dh[0]\n",
    "print rr.min(),rr.max()\n",
    "reef.mPlot.morphochange(rr, min=vmin, max=vmax, gauss=0, \n",
    "                      color=cmocean.cm.curl, fsize=(7.5,5), \n",
    "                      fname='deposition.png', dpi=300)"
   ]
  },
  {
   "cell_type": "code",
   "execution_count": null,
   "metadata": {
    "collapsed": false
   },
   "outputs": [],
   "source": [
    "reef.mPlot.bathymetry(color=cmocean.cm.delta, fsize=(7.5,5), fname='bathy1.png', dpi=300)"
   ]
  },
  {
   "cell_type": "markdown",
   "metadata": {},
   "source": [
    "### Visualise SWAN outputs"
   ]
  },
  {
   "cell_type": "code",
   "execution_count": null,
   "metadata": {
    "collapsed": false
   },
   "outputs": [],
   "source": [
    "hght = reef.force.wavH[0]\n",
    "levels = [0.5,1,1.5,2,2.5,3,3.5,4]\n",
    "reef.mPlot.waveHeight(height=hght, lvls=levels, color=cmocean.cm.thermal, fsize=(7.5,5), fname='height.png', dpi=300)\n",
    "U = reef.force.wavU[0].T\n",
    "V = reef.force.wavV[0].T\n",
    "reef.mPlot.bottomCurrents(U, V, gauss=1., dens=3, color=cmocean.cm.deep, fsize=(7.5,5), fname='currents.png', dpi=300)"
   ]
  },
  {
   "cell_type": "code",
   "execution_count": null,
   "metadata": {
    "collapsed": false
   },
   "outputs": [],
   "source": [
    "speed = numpy.sqrt(reef.force.wavU[0]**2+reef.force.wavV[0]**2)\n",
    "levels = [0.5,1,1.5,2,2.5,3]\n",
    "reef.mPlot.waveHeight(height=speed, lvls=levels, color=cmocean.cm.thermal, fsize=(7.5,5), fname='height.png', dpi=300)"
   ]
  },
  {
   "cell_type": "markdown",
   "metadata": {},
   "source": [
    "# Run next time step"
   ]
  },
  {
   "cell_type": "code",
   "execution_count": null,
   "metadata": {
    "collapsed": false
   },
   "outputs": [],
   "source": [
    "# Run model\n",
    "reef.run_to_time(0.5)"
   ]
  },
  {
   "cell_type": "code",
   "execution_count": null,
   "metadata": {
    "collapsed": false
   },
   "outputs": [],
   "source": [
    "vmin = -0.5\n",
    "vmax = 0.5\n",
    "rr = reef.hydro.dh[0]\n",
    "print rr.min(),rr.max()\n",
    "reef.mPlot.morphochange(rr, min=vmin, max=vmax, gauss=0, \n",
    "                      color=cmocean.cm.curl, fsize=(7.5,5), \n",
    "                      fname='deposition_suspload.png', dpi=300)"
   ]
  },
  {
   "cell_type": "code",
   "execution_count": null,
   "metadata": {
    "collapsed": false
   },
   "outputs": [],
   "source": [
    "hght = reef.force.wavH[0]\n",
    "levels = [0.5,1,1.5,2,2.5,3,3.5,4]\n",
    "reef.mPlot.waveHeight(height=hght, lvls=levels, color=cmocean.cm.thermal, fsize=(7.5,5), fname='height.png', dpi=300)\n",
    "\n",
    "U = reef.force.wavU[0].T\n",
    "V = reef.force.wavV[0].T\n",
    "reef.mPlot.bottomCurrents(U, V, gauss=1., dens=3, color=cmocean.cm.deep, fsize=(7.5,5), fname='currents.png', dpi=300)"
   ]
  },
  {
   "cell_type": "markdown",
   "metadata": {
    "collapsed": true
   },
   "source": [
    "# Run in parallel"
   ]
  },
  {
   "cell_type": "code",
   "execution_count": null,
   "metadata": {
    "collapsed": false
   },
   "outputs": [],
   "source": [
    "!mpiexec -n 1 python mpi_example.py 0.5"
   ]
  },
  {
   "cell_type": "code",
   "execution_count": null,
   "metadata": {
    "collapsed": false
   },
   "outputs": [],
   "source": [
    "!mpiexec -n 2 python mpi_example.py 0.5"
   ]
  },
  {
   "cell_type": "code",
   "execution_count": null,
   "metadata": {
    "collapsed": false
   },
   "outputs": [],
   "source": [
    "!mpiexec -n 3 python mpi_example.py 0.5"
   ]
  },
  {
   "cell_type": "code",
   "execution_count": null,
   "metadata": {
    "collapsed": true
   },
   "outputs": [],
   "source": []
  }
 ],
 "metadata": {
  "kernelspec": {
   "display_name": "Python 2",
   "language": "python",
   "name": "python2"
  },
  "language_info": {
   "codemirror_mode": {
    "name": "ipython",
    "version": 2
   },
   "file_extension": ".py",
   "mimetype": "text/x-python",
   "name": "python",
   "nbconvert_exporter": "python",
   "pygments_lexer": "ipython2",
   "version": "2.7.6"
  }
 },
 "nbformat": 4,
 "nbformat_minor": 1
}
